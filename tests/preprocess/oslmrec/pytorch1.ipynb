{
 "cells": [
  {
   "cell_type": "code",
   "execution_count": 1,
   "id": "978b3a6e-a4d9-4f68-8efb-626f248db348",
   "metadata": {},
   "outputs": [],
   "source": [
    "import torch"
   ]
  },
  {
   "cell_type": "code",
   "execution_count": 3,
   "id": "b41327c4-fcb6-40b0-b492-9054854511fa",
   "metadata": {},
   "outputs": [
    {
     "data": {
      "text/plain": [
       "torch.Size([5, 3])"
      ]
     },
     "execution_count": 3,
     "metadata": {},
     "output_type": "execute_result"
    }
   ],
   "source": [
    "torch.Size([5,3])"
   ]
  },
  {
   "cell_type": "code",
   "execution_count": 5,
   "id": "de2473a9-6bf8-4ab7-abd8-da655ae045a9",
   "metadata": {},
   "outputs": [
    {
     "data": {
      "text/plain": [
       "tensor([[0.8876, 0.1127, 0.9622],\n",
       "        [0.8890, 0.4773, 0.6641],\n",
       "        [0.5796, 0.9008, 0.5248],\n",
       "        [0.2270, 0.5382, 0.3205],\n",
       "        [0.2546, 0.6870, 0.5194]])"
      ]
     },
     "execution_count": 5,
     "metadata": {},
     "output_type": "execute_result"
    }
   ],
   "source": [
    "x = torch.rand(5, 3)\n",
    "x"
   ]
  },
  {
   "cell_type": "code",
   "execution_count": 4,
   "id": "906aa684-9868-492e-95c8-5f65e025b354",
   "metadata": {},
   "outputs": [
    {
     "data": {
      "text/plain": [
       "tensor([[0.9989, 0.1763, 0.1203],\n",
       "        [0.6723, 0.7861, 0.1038],\n",
       "        [0.2403, 0.5675, 0.5177],\n",
       "        [0.0192, 0.0014, 0.6062],\n",
       "        [0.5780, 0.8747, 0.5314]])"
      ]
     },
     "execution_count": 4,
     "metadata": {},
     "output_type": "execute_result"
    }
   ],
   "source": [
    "y = torch.rand(5, 3)\n",
    "y"
   ]
  },
  {
   "cell_type": "code",
   "execution_count": 6,
   "id": "10560e16-50ec-4326-8c7a-674b835b656d",
   "metadata": {},
   "outputs": [
    {
     "data": {
      "text/plain": [
       "tensor([[1.8865, 0.2889, 1.0825],\n",
       "        [1.5612, 1.2634, 0.7679],\n",
       "        [0.8199, 1.4684, 1.0424],\n",
       "        [0.2462, 0.5396, 0.9267],\n",
       "        [0.8326, 1.5616, 1.0508]])"
      ]
     },
     "execution_count": 6,
     "metadata": {},
     "output_type": "execute_result"
    }
   ],
   "source": [
    "torch.add(x,y)"
   ]
  },
  {
   "cell_type": "code",
   "execution_count": 7,
   "id": "7a6ef77f-97db-44ac-86e8-29350f8c6e31",
   "metadata": {},
   "outputs": [
    {
     "data": {
      "text/plain": [
       "tensor([[1.8865, 0.2889, 1.0825],\n",
       "        [1.5612, 1.2634, 0.7679],\n",
       "        [0.8199, 1.4684, 1.0424],\n",
       "        [0.2462, 0.5396, 0.9267],\n",
       "        [0.8326, 1.5616, 1.0508]])"
      ]
     },
     "execution_count": 7,
     "metadata": {},
     "output_type": "execute_result"
    }
   ],
   "source": [
    "x+y"
   ]
  },
  {
   "cell_type": "code",
   "execution_count": 8,
   "id": "b4c07fce-8915-4906-a20d-9dc07662ff76",
   "metadata": {},
   "outputs": [
    {
     "data": {
      "text/plain": [
       "tensor([[1.8865, 0.2889, 1.0825],\n",
       "        [1.5612, 1.2634, 0.7679],\n",
       "        [0.8199, 1.4684, 1.0424],\n",
       "        [0.2462, 0.5396, 0.9267],\n",
       "        [0.8326, 1.5616, 1.0508]])"
      ]
     },
     "execution_count": 8,
     "metadata": {},
     "output_type": "execute_result"
    }
   ],
   "source": [
    "x.add(y)"
   ]
  },
  {
   "cell_type": "code",
   "execution_count": null,
   "id": "aebf9938-eebc-4b78-8b7a-e9d5c59f1cb3",
   "metadata": {},
   "outputs": [],
   "source": [
    "# 任何使张量发生变化的操作都有一个后缀'_', 例如: x.copy_(y)"
   ]
  },
  {
   "cell_type": "code",
   "execution_count": 9,
   "id": "eecdc30d-05c8-46f3-ad6c-8937651237b4",
   "metadata": {},
   "outputs": [
    {
     "data": {
      "text/plain": [
       "tensor([[0.9989, 0.1763, 0.1203],\n",
       "        [0.6723, 0.7861, 0.1038],\n",
       "        [0.2403, 0.5675, 0.5177],\n",
       "        [0.0192, 0.0014, 0.6062],\n",
       "        [0.5780, 0.8747, 0.5314]])"
      ]
     },
     "execution_count": 9,
     "metadata": {},
     "output_type": "execute_result"
    }
   ],
   "source": [
    "x.copy_(y)\n",
    "x"
   ]
  },
  {
   "cell_type": "code",
   "execution_count": 10,
   "id": "e223c12e-cfa8-481a-ae10-15de95af7ed3",
   "metadata": {},
   "outputs": [
    {
     "data": {
      "text/plain": [
       "tensor([0.1763, 0.7861, 0.5675, 0.0014, 0.8747])"
      ]
     },
     "execution_count": 10,
     "metadata": {},
     "output_type": "execute_result"
    }
   ],
   "source": [
    "x[:,1]"
   ]
  },
  {
   "cell_type": "code",
   "execution_count": 12,
   "id": "e01114fe-0294-4606-9ef7-e8421d827ce3",
   "metadata": {},
   "outputs": [
    {
     "data": {
      "text/plain": [
       "tensor([[0.9989, 0.1763, 0.1203, 0.6723, 0.7861],\n",
       "        [0.1038, 0.2403, 0.5675, 0.5177, 0.0192],\n",
       "        [0.0014, 0.6062, 0.5780, 0.8747, 0.5314]])"
      ]
     },
     "execution_count": 12,
     "metadata": {},
     "output_type": "execute_result"
    }
   ],
   "source": [
    "x.view(-1,5)"
   ]
  },
  {
   "cell_type": "code",
   "execution_count": 17,
   "id": "1acb01d6-2bbe-45c1-ac08-0d761324d35d",
   "metadata": {},
   "outputs": [
    {
     "data": {
      "text/plain": [
       "tensor([0.9989, 0.1763, 0.1203, 0.6723, 0.7861, 0.1038, 0.2403, 0.5675, 0.5177,\n",
       "        0.0192, 0.0014, 0.6062, 0.5780, 0.8747, 0.5314])"
      ]
     },
     "execution_count": 17,
     "metadata": {},
     "output_type": "execute_result"
    }
   ],
   "source": [
    "x.view(-1)"
   ]
  },
  {
   "cell_type": "code",
   "execution_count": 24,
   "id": "2c2a4745-e162-4c0f-8bc6-273e04c7ad99",
   "metadata": {},
   "outputs": [
    {
     "data": {
      "text/plain": [
       "tensor([[0.9989, 0.1763, 0.1203],\n",
       "        [0.6723, 0.7861, 0.1038],\n",
       "        [0.2403, 0.5675, 0.5177],\n",
       "        [0.0192, 0.0014, 0.6062],\n",
       "        [0.5780, 0.8747, 0.5314]])"
      ]
     },
     "execution_count": 24,
     "metadata": {},
     "output_type": "execute_result"
    }
   ],
   "source": [
    "x"
   ]
  },
  {
   "cell_type": "code",
   "execution_count": 25,
   "id": "68a6392b-7213-4f36-b0ba-e4361fe35eb3",
   "metadata": {},
   "outputs": [
    {
     "data": {
      "text/plain": [
       "0.9988824129104614"
      ]
     },
     "execution_count": 25,
     "metadata": {},
     "output_type": "execute_result"
    }
   ],
   "source": [
    "x[0,0].item()"
   ]
  },
  {
   "cell_type": "code",
   "execution_count": 28,
   "id": "58cf3ab2-e435-4bfd-9bb9-09bbd4dfd9c7",
   "metadata": {},
   "outputs": [
    {
     "data": {
      "text/plain": [
       "tensor([0.9422])"
      ]
     },
     "execution_count": 28,
     "metadata": {},
     "output_type": "execute_result"
    }
   ],
   "source": [
    "torch.tensor([0.9422])"
   ]
  },
  {
   "cell_type": "code",
   "execution_count": null,
   "id": "05f9ea81-c53e-4249-b618-3109c351bf0c",
   "metadata": {},
   "outputs": [],
   "source": []
  },
  {
   "cell_type": "code",
   "execution_count": 29,
   "id": "10c5658f-bfab-4723-a4b0-d9cd65113a3d",
   "metadata": {},
   "outputs": [
    {
     "name": "stdout",
     "output_type": "stream",
     "text": [
      "tensor([[1., 1.],\n",
      "        [1., 1.]], requires_grad=True)\n"
     ]
    }
   ],
   "source": [
    "x = torch.ones(2, 2, requires_grad=True)\n",
    "x"
   ]
  },
  {
   "cell_type": "code",
   "execution_count": 30,
   "id": "446d76df-37ac-46eb-8d72-58f58fd54270",
   "metadata": {},
   "outputs": [
    {
     "data": {
      "text/plain": [
       "tensor([[3., 3.],\n",
       "        [3., 3.]], grad_fn=<AddBackward0>)"
      ]
     },
     "execution_count": 30,
     "metadata": {},
     "output_type": "execute_result"
    }
   ],
   "source": [
    "y = x + 2\n",
    "y"
   ]
  },
  {
   "cell_type": "code",
   "execution_count": 31,
   "id": "81b264d2-1393-457a-ba5f-8dc8f35d8493",
   "metadata": {},
   "outputs": [
    {
     "data": {
      "text/plain": [
       "<AddBackward0 at 0x287b8d52ef0>"
      ]
     },
     "execution_count": 31,
     "metadata": {},
     "output_type": "execute_result"
    }
   ],
   "source": [
    "y.grad_fn"
   ]
  },
  {
   "cell_type": "code",
   "execution_count": 32,
   "id": "68d1c1a4-f435-4ba1-81f8-28422d1f8603",
   "metadata": {},
   "outputs": [
    {
     "name": "stdout",
     "output_type": "stream",
     "text": [
      "tensor([[27., 27.],\n",
      "        [27., 27.]], grad_fn=<MulBackward0>) tensor(27., grad_fn=<MeanBackward0>)\n"
     ]
    }
   ],
   "source": [
    "z = y * y * 3\n",
    "out = z.mean()\n",
    "\n",
    "print(z, out)"
   ]
  },
  {
   "cell_type": "code",
   "execution_count": 33,
   "id": "70fea1dd-fe6f-483e-8a6e-a59e55fcb85e",
   "metadata": {},
   "outputs": [
    {
     "name": "stdout",
     "output_type": "stream",
     "text": [
      "False\n",
      "True\n",
      "<SumBackward0 object at 0x00000287B8DE2500>\n"
     ]
    }
   ],
   "source": [
    "a = torch.randn(2, 2)\n",
    "a = ((a * 3) / (a - 1))\n",
    "print(a.requires_grad)\n",
    "a.requires_grad_(True)\n",
    "print(a.requires_grad)\n",
    "b = (a * a).sum()\n",
    "print(b.grad_fn)"
   ]
  },
  {
   "cell_type": "code",
   "execution_count": 34,
   "id": "716ca296-bdbc-43f5-b7db-d2569857214a",
   "metadata": {},
   "outputs": [],
   "source": [
    "out.backward()"
   ]
  },
  {
   "cell_type": "code",
   "execution_count": 35,
   "id": "4f0cf030-5c67-45f5-9d6e-8cfd95585001",
   "metadata": {},
   "outputs": [
    {
     "data": {
      "text/plain": [
       "tensor([[4.5000, 4.5000],\n",
       "        [4.5000, 4.5000]])"
      ]
     },
     "execution_count": 35,
     "metadata": {},
     "output_type": "execute_result"
    }
   ],
   "source": [
    "x.grad"
   ]
  },
  {
   "cell_type": "code",
   "execution_count": 36,
   "id": "f279be0e-795a-40dc-9366-92c1c98775a8",
   "metadata": {},
   "outputs": [
    {
     "name": "stdout",
     "output_type": "stream",
     "text": [
      "tensor([ 1300.5389,   389.1753, -1107.7632], grad_fn=<MulBackward0>)\n"
     ]
    }
   ],
   "source": [
    "x = torch.randn(3, requires_grad=True)\n",
    "\n",
    "y = x * 2\n",
    "while y.data.norm() < 1000:\n",
    "    y = y * 2\n",
    "\n",
    "print(y)"
   ]
  },
  {
   "cell_type": "code",
   "execution_count": 37,
   "id": "59dff715-228e-47f2-90e2-e1652a79fd82",
   "metadata": {},
   "outputs": [
    {
     "name": "stdout",
     "output_type": "stream",
     "text": [
      "tensor([5.1200e+01, 5.1200e+02, 5.1200e-02])\n"
     ]
    }
   ],
   "source": [
    "v = torch.tensor([0.1, 1.0, 0.0001], dtype=torch.float)\n",
    "y.backward(v)\n",
    "\n",
    "print(x.grad)\n"
   ]
  },
  {
   "cell_type": "code",
   "execution_count": 38,
   "id": "1aa18a4d-0848-499a-a64f-f4dd6f1acf95",
   "metadata": {},
   "outputs": [
    {
     "name": "stdout",
     "output_type": "stream",
     "text": [
      "True\n",
      "True\n",
      "False\n"
     ]
    }
   ],
   "source": [
    "\n",
    "print(x.requires_grad)\n",
    "print((x ** 2).requires_grad)\n",
    "\n",
    "with torch.no_grad():\n",
    "    print((x ** 2).requires_grad)"
   ]
  },
  {
   "cell_type": "code",
   "execution_count": null,
   "id": "54909a33-dd28-4ff6-b3b1-2f5b7234a758",
   "metadata": {},
   "outputs": [],
   "source": []
  },
  {
   "cell_type": "code",
   "execution_count": null,
   "id": "77edc8bb-36bd-4ad0-a696-8e1a8b6dc225",
   "metadata": {},
   "outputs": [],
   "source": []
  },
  {
   "cell_type": "code",
   "execution_count": null,
   "id": "4ee12781-a833-4bc6-bff7-2be79a400e48",
   "metadata": {},
   "outputs": [],
   "source": []
  }
 ],
 "metadata": {
  "kernelspec": {
   "display_name": "Python 3 (ipykernel)",
   "language": "python",
   "name": "python3"
  },
  "language_info": {
   "codemirror_mode": {
    "name": "ipython",
    "version": 3
   },
   "file_extension": ".py",
   "mimetype": "text/x-python",
   "name": "python",
   "nbconvert_exporter": "python",
   "pygments_lexer": "ipython3",
   "version": "3.10.13"
  }
 },
 "nbformat": 4,
 "nbformat_minor": 5
}
